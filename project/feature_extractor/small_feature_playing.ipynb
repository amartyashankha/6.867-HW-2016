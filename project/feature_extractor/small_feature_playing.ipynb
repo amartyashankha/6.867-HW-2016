{
 "cells": [
  {
   "cell_type": "code",
   "execution_count": 10,
   "metadata": {
    "collapsed": false
   },
   "outputs": [],
   "source": [
    "from generate_paths import get_all_files\n",
    "import six.moves.cPickle as pickle\n",
    "import numpy as np\n",
    "import copy\n",
    "from joblib import Parallel, delayed"
   ]
  },
  {
   "cell_type": "code",
   "execution_count": 83,
   "metadata": {
    "collapsed": false
   },
   "outputs": [],
   "source": [
    "import matplotlib.pyplot as plt\n",
    "from matplotlib import cm\n",
    "import prettyplotlib as ppl\n",
    "%matplotlib inline\n",
    "plt.style.use('fivethirtyeight')"
   ]
  },
  {
   "cell_type": "code",
   "execution_count": 12,
   "metadata": {
    "collapsed": false
   },
   "outputs": [],
   "source": [
    "from sklearn.feature_selection import SelectKBest, chi2\n",
    "from sklearn.ensemble import AdaBoostClassifier\n",
    "from sklearn.ensemble import AdaBoostRegressor\n",
    "from sklearn.ensemble import RandomForestClassifier\n",
    "from sklearn.linear_model import RidgeClassifier\n",
    "from sklearn.linear_model import Ridge\n",
    "from sklearn.linear_model import LinearRegression\n",
    "from sklearn.linear_model import Perceptron\n",
    "from sklearn.linear_model import PassiveAggressiveClassifier\n",
    "from sklearn.linear_model import SGDClassifier\n",
    "from sklearn.naive_bayes import BernoulliNB, MultinomialNB\n",
    "from sklearn.neighbors import KNeighborsClassifier\n",
    "from sklearn.svm import LinearSVC, SVC\n",
    "from sklearn import metrics\n",
    "from sklearn.model_selection import cross_val_score\n",
    "from sklearn.model_selection import cross_val_predict"
   ]
  },
  {
   "cell_type": "code",
   "execution_count": 107,
   "metadata": {
    "collapsed": false
   },
   "outputs": [],
   "source": [
    "features = []\n",
    "with open('features_inc.pkl', 'rb') as pickle_file:\n",
    "    try:\n",
    "       for _ in range(500000):\n",
    "            entry = pickle.load(pickle_file, encoding='bytes', fix_imports=True)\n",
    "            features.append(entry)\n",
    "    except EOFError:\n",
    "        pass"
   ]
  },
  {
   "cell_type": "code",
   "execution_count": 108,
   "metadata": {
    "collapsed": false
   },
   "outputs": [],
   "source": [
    "feat_list = ['key','mode','loudness','danceability','duration','energy','mode']"
   ]
  },
  {
   "cell_type": "code",
   "execution_count": 109,
   "metadata": {
    "collapsed": false
   },
   "outputs": [],
   "source": [
    "data = map(lambda x: x[1], features)\n",
    "data = list(filter(lambda x: 'year' in x and x['year']>=1965, data))"
   ]
  },
  {
   "cell_type": "code",
   "execution_count": 110,
   "metadata": {
    "collapsed": false
   },
   "outputs": [
    {
     "data": {
      "text/plain": [
       "208399"
      ]
     },
     "execution_count": 110,
     "metadata": {},
     "output_type": "execute_result"
    }
   ],
   "source": [
    "len(data)"
   ]
  },
  {
   "cell_type": "code",
   "execution_count": 119,
   "metadata": {
    "collapsed": false
   },
   "outputs": [],
   "source": [
    "granularity = 5\n",
    "labels = list(map(lambda x: x['year'], data))\n",
    "labels -= min(labels)\n",
    "labels = np.array(list(map(int, labels)))\n",
    "classes = list(map(lambda x: x//granularity, labels))"
   ]
  },
  {
   "cell_type": "code",
   "execution_count": 118,
   "metadata": {
    "collapsed": false
   },
   "outputs": [
    {
     "data": {
      "text/plain": [
       "34340"
      ]
     },
     "execution_count": 118,
     "metadata": {},
     "output_type": "execute_result"
    }
   ],
   "source": [
    "classes_to_data = {}\n",
    "for i,entry in enumerate(data):\n",
    "    cls = classes[i]\n",
    "    classes_to_data.setdefault(cls, []).append(entry)\n",
    "for cls in classes_to_data:\n",
    "    classes_to_data[cls] = np.random.permutation(classes_to_data[cls])\n",
    "min_len = min([len(x) for x in classes_to_data.values()])\n",
    "uniform_data = np.array([subdata[:min_len] for subdata in classes_to_data.values()]).flatten()\n",
    "data = uniform_data\n",
    "len(data)"
   ]
  },
  {
   "cell_type": "code",
   "execution_count": 18,
   "metadata": {
    "collapsed": false,
    "scrolled": true
   },
   "outputs": [
    {
     "data": {
      "image/png": "[encoded data removed]",
      "text/plain": [
       "<matplotlib.figure.Figure at 0x7f7ef491a588>"
      ]
     },
     "metadata": {},
     "output_type": "display_data"
    }
   ],
   "source": [
    "plt.hist(labels, 20);"
   ]
  },
  {
   "cell_type": "code",
   "execution_count": 139,
   "metadata": {
    "collapsed": false
   },
   "outputs": [
    {
     "data": {
      "text/plain": [
       "198.45008736167733"
      ]
     },
     "execution_count": 139,
     "metadata": {},
     "output_type": "execute_result"
    }
   ],
   "source": [
    "BASELINE = 25\n",
    "np.mean((labels-BASELINE)**2)"
   ]
  },
  {
   "cell_type": "code",
   "execution_count": 140,
   "metadata": {
    "collapsed": true
   },
   "outputs": [],
   "source": [
    "X = np.array([[entry[feat] for feat in feat_list] for entry in data])"
   ]
  },
  {
   "cell_type": "code",
   "execution_count": 143,
   "metadata": {
    "collapsed": false
   },
   "outputs": [],
   "source": [
    "regressors = [#LinearRegression(),\n",
    "              Ridge(alpha = 1.0),\n",
    "             ]\n",
    "classifiers = [AdaBoostClassifier(),\n",
    "               RidgeClassifier(alpha=1.0),\n",
    "               #Perceptron(n_iter=50),\n",
    "               #PassiveAggressiveClassifier(n_iter=50),\n",
    "               #KNeighborsClassifier(n_neighbors=10),\n",
    "               #RandomForestClassifier(),\n",
    "               #RandomForestClassifier(n_estimators=200, criterion = 'entropy'),\n",
    "               LinearSVC(dual=False),\n",
    "               #MultinomialNB(alpha=0.1),\n",
    "               #BernoulliNB(alpha=0.1),\n",
    "               #SGDClassifier(alpha=.0001, n_iter=200, penalty='l2'),\n",
    "               SVC()\n",
    "              ]"
   ]
  },
  {
   "cell_type": "code",
   "execution_count": 142,
   "metadata": {
    "collapsed": false
   },
   "outputs": [],
   "source": [
    "C_values = [0.5,1.0,2.0]\n",
    "classifiers = [LinearSVC(C=C, penalty='l2', dual=False) for C in C_values]+[LinearSVC(C=C, penalty='l1', dual=False) for C in C_values]"
   ]
  },
  {
   "cell_type": "code",
   "execution_count": 145,
   "metadata": {
    "collapsed": false
   },
   "outputs": [
    {
     "name": "stdout",
     "output_type": "stream",
     "text": [
      "Ridge Mean Square Deviations [ 559.59582117  159.52460417   41.2246986   161.21799158  505.60716794]\n"
     ]
    }
   ],
   "source": [
    "for clf in regressors:\n",
    "    scores = -cross_val_score(clf, X, labels, cv=5, scoring='neg_mean_squared_error')\n",
    "    print(clf.__class__.__name__, 'Mean Square Deviations', scores)"
   ]
  },
  {
   "cell_type": "code",
   "execution_count": 147,
   "metadata": {
    "collapsed": false,
    "scrolled": true
   },
   "outputs": [],
   "source": [
    "predictions = Parallel(n_jobs=-1)(\n",
    "    delayed(cross_val_predict)(clf, X, classes, cv=5)\n",
    "    for clf in classifiers)"
   ]
  },
  {
   "cell_type": "code",
   "execution_count": 148,
   "metadata": {
    "collapsed": false
   },
   "outputs": [
    {
     "name": "stdout",
     "output_type": "stream",
     "text": [
      "('AdaBoostClassifier', 0.17798485730926034)\n",
      "('RidgeClassifier', 0.16048340128130459)\n",
      "('LinearSVC', 0.16193942923704135)\n",
      "('SVC', 0.16153174140943505)\n"
     ]
    }
   ],
   "source": [
    "tmp = list(zip(map(lambda x: x.__class__.__name__,classifiers), [metrics.accuracy_score(classes, predicted) for predicted in predictions]))\n",
    "print(*tmp, sep='\\n')"
   ]
  },
  {
   "cell_type": "code",
   "execution_count": 121,
   "metadata": {
    "collapsed": false
   },
   "outputs": [
    {
     "data": {
      "text/plain": [
       "[<matplotlib.text.Text at 0x7f7e737b8cf8>,\n",
       " <matplotlib.text.Text at 0x7f7e721d3dd8>]"
      ]
     },
     "execution_count": 121,
     "metadata": {},
     "output_type": "execute_result"
    },
    {
     "data": {
      "image/png": "[encoded data removed]",
      "text/plain": [
       "<matplotlib.figure.Figure at 0x7f7e700d7048>"
      ]
     },
     "metadata": {},
     "output_type": "display_data"
    }
   ],
   "source": [
    "clf = classifiers[0]\n",
    "clf.fit(X, classes)\n",
    "predicted = clf.predict(X)\n",
    "num_classes = len(set(classes))\n",
    "heatmap = [[0 for _ in range(num_classes)] for _ in range(num_classes)]\n",
    "for x,y in zip(classes, predicted):\n",
    "    heatmap[x][y] += 1.0/len(classes_to_data[x])\n",
    "\n",
    "fig, ax = plt.subplots()\n",
    "\n",
    "cax = ax.imshow(heatmap, origin='lower', interpolation='nearest', cmap=cm.coolwarm)\n",
    "\n",
    "cbar = fig.colorbar(cax, ticks=[np.min(heatmap), np.max(heatmap)])\n",
    "cbar.ax.set_yticklabels(map(lambda x: str(x), [np.min(heatmap), np.max(heatmap)]))"
   ]
  },
  {
   "cell_type": "code",
   "execution_count": 146,
   "metadata": {
    "collapsed": false
   },
   "outputs": [
    {
     "data": {
      "text/plain": [
       "<matplotlib.collections.PathCollection at 0x7f7ea382ff98>"
      ]
     },
     "execution_count": 146,
     "metadata": {},
     "output_type": "execute_result"
    },
    {
     "data": {
      "image/png": "[encoded data removed]",
      "text/plain": [
       "<matplotlib.figure.Figure at 0x7f7ea71647f0>"
      ]
     },
     "metadata": {},
     "output_type": "display_data"
    }
   ],
   "source": [
    "clf = Ridge(alpha = 1.0)\n",
    "clf.fit(X, labels)\n",
    "plt.scatter(labels, clf.predict(X))"
   ]
  },
  {
   "cell_type": "code",
   "execution_count": null,
   "metadata": {
    "collapsed": true
   },
   "outputs": [],
   "source": []
  }
 ],
 "metadata": {
  "kernelspec": {
   "display_name": "Python 3",
   "language": "python",
   "name": "python3"
  },
  "language_info": {
   "codemirror_mode": {
    "name": "ipython",
    "version": 3
   },
   "file_extension": ".py",
   "mimetype": "text/x-python",
   "name": "python",
   "nbconvert_exporter": "python",
   "pygments_lexer": "ipython3",
   "version": "3.5.1"
  }
 },
 "nbformat": 4,
 "nbformat_minor": 1
}
